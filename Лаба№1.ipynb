{
  "nbformat": 4,
  "nbformat_minor": 0,
  "metadata": {
    "colab": {
      "provenance": [],
      "authorship_tag": "ABX9TyNDUGXw9XJdtqyLW6K9Rbba",
      "include_colab_link": true
    },
    "kernelspec": {
      "name": "python3",
      "display_name": "Python 3"
    },
    "language_info": {
      "name": "python"
    }
  },
  "cells": [
    {
      "cell_type": "markdown",
      "metadata": {
        "id": "view-in-github",
        "colab_type": "text"
      },
      "source": [
        "<a href=\"https://colab.research.google.com/github/enelaill/My_First_Test_Repo/blob/main/%D0%9B%D0%B0%D0%B1%D0%B0%E2%84%961.ipynb\" target=\"_parent\"><img src=\"https://colab.research.google.com/assets/colab-badge.svg\" alt=\"Open In Colab\"/></a>"
      ]
    },
    {
      "cell_type": "markdown",
      "source": [
        "#Лаба 1. Иванов Никита \n",
        "###**Маркированный список**\n",
        "\n",
        "Топ 5 языков програмирования:\n",
        "*   JavaScript\n",
        "*   C#\n",
        "*   Java\n",
        "*   Python\n",
        "*   PHP\n",
        "\n",
        "###**Таблица**\n",
        "\n",
        "студент       | кол-во пропусков\n",
        "-------------------|------------------\n",
        "Иванов Иван       | 5\n",
        "Петров Петя      | 0\n",
        "\n",
        "###**Рисунок**\n",
        "\n",
        "![MarkDown Logo](https://upload.wikimedia.org/wikipedia/commons/thumb/4/48/Markdown-mark.svg/208px-Markdown-mark.svg.png)\n",
        "\n",
        "##**Ссылка**\n",
        "[Основы GitHub MarkDown](https://help.github.com/articles/markdown-basics/)\n",
        "\n",
        "\n",
        "\n"
      ],
      "metadata": {
        "id": "rSHSoeml8bln"
      }
    }
  ]
}